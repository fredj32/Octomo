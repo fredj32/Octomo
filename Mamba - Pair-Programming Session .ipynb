{
 "cells": [
  {
   "cell_type": "markdown",
   "metadata": {},
   "source": [
    "# Aufgaben - Pair Programming Session"
   ]
  },
  {
   "cell_type": "markdown",
   "metadata": {},
   "source": [
    "### 1.) Umdrehen\n",
    "\n",
    "Schließen Sie die Funktion ab, die einen Zeichenfolgen Parameter akzeptiert, und kehren Sie jedes Wort in der Zeichenfolge um. Alle Leerzeichen in der Zeichenfolge sollten beibehalten werden.\n",
    "\n",
    "#### Beispiele:"
   ]
  },
  {
   "cell_type": "code",
   "execution_count": null,
   "metadata": {},
   "outputs": [],
   "source": [
    "\"This is an example!\" ==> \"sihT si na !elpmaxe\"\n",
    "\"double  spaces\"      ==> \"elbuod  secaps\""
   ]
  },
  {
   "cell_type": "code",
   "execution_count": null,
   "metadata": {},
   "outputs": [],
   "source": [
    "def reverse_words(text):\n",
    "    #hier kommt Dein Code rein\n"
   ]
  },
  {
   "cell_type": "markdown",
   "metadata": {},
   "source": [
    "### 2.) Quadrieren\n",
    "\n",
    "Baue eine Funktion die jede Ziffer einer Zahl quadriert.\n",
    "\n",
    "Wenn wir beispielsweise 9119 über die Funktion ausführen, wird 811181 ausgegeben, da 9^2 = 81 und 1^2 = 1 ist.\n",
    "\n",
    "Hinweis: Die Funktion akzeptiert eine Ganze Zahl und gibt eine Ganze Zahl zurück."
   ]
  },
  {
   "cell_type": "code",
   "execution_count": null,
   "metadata": {},
   "outputs": [],
   "source": [
    "def square_digits(num):\n",
    "    #hier kommt Dein Code rein\n",
    "    "
   ]
  },
  {
   "cell_type": "markdown",
   "metadata": {},
   "source": [
    "### 3.) Maskieren\n",
    "\n",
    "Wenn Du etwas kaufst, wirst Du normalerweise gefragt, ob Deine Kreditkartennummer, Telefonnummer oder Antwort auf Deine geheime Frage noch korrekt ist. Da jedoch jemand über Deine Schulter schauen könnte, möchtest Du nicht, dass dies auf Deinem Bildschirm angezeigt wird. Deswegen willst Du es verdecken.\n",
    "\n",
    "Deine Aufgabe ist es, eine Funktion maskify zu schreiben, die alle bis auf die letzten vier Zeichen in '#' ändert.\n",
    "\n",
    "#### Beispiele:"
   ]
  },
  {
   "cell_type": "code",
   "execution_count": null,
   "metadata": {},
   "outputs": [],
   "source": [
    "maskify(\"4556364607935616\") == \"############5616\"\n",
    "maskify(     \"64607935616\") ==      \"#######5616\"\n",
    "maskify(               \"1\") ==                \"1\"\n",
    "maskify(                \"\") ==                 \"\"\n",
    "\n",
    "#\"Was ist der Name deines ersten Haustieres?\"\n",
    "maskify(\"Skippy\")                                   == \"##ippy\"\n",
    "maskify(\"Nananananananananananananananana Batman!\") == \"####################################man!\""
   ]
  },
  {
   "cell_type": "code",
   "execution_count": 1,
   "metadata": {},
   "outputs": [],
   "source": [
    "def maskify(cc):\n",
    "    pass"
   ]
  }
 ],
 "metadata": {
  "kernelspec": {
   "display_name": "Python 3",
   "language": "python",
   "name": "python3"
  },
  "language_info": {
   "codemirror_mode": {
    "name": "ipython",
    "version": 3
   },
   "file_extension": ".py",
   "mimetype": "text/x-python",
   "name": "python",
   "nbconvert_exporter": "python",
   "pygments_lexer": "ipython3",
   "version": "3.7.6"
  }
 },
 "nbformat": 4,
 "nbformat_minor": 4
}
